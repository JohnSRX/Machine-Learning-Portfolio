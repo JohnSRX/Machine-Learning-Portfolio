{
  "nbformat": 4,
  "nbformat_minor": 0,
  "metadata": {
    "colab": {
      "provenance": [],
      "include_colab_link": true
    },
    "kernelspec": {
      "name": "python3",
      "display_name": "Python 3"
    },
    "language_info": {
      "name": "python"
    }
  },
  "cells": [
    {
      "cell_type": "markdown",
      "metadata": {
        "id": "view-in-github",
        "colab_type": "text"
      },
      "source": [
        "<a href=\"https://colab.research.google.com/github/JohnSRX/Machine-Learning-Portfolio/blob/Feature-Engineering/lab2_Feature_Engineering_IS170__(1).ipynb\" target=\"_parent\"><img src=\"https://colab.research.google.com/assets/colab-badge.svg\" alt=\"Open In Colab\"/></a>"
      ]
    },
    {
      "cell_type": "code",
      "execution_count": null,
      "metadata": {
        "id": "tPiRlUWBbgac"
      },
      "outputs": [],
      "source": [
        "import pandas as pd"
      ]
    },
    {
      "cell_type": "code",
      "source": [
        "df = pd.read_csv('healthcare_data-2.csv')"
      ],
      "metadata": {
        "id": "klw02YCgbnL_"
      },
      "execution_count": null,
      "outputs": []
    },
    {
      "cell_type": "code",
      "source": [
        "print(df)"
      ],
      "metadata": {
        "colab": {
          "base_uri": "https://localhost:8080/"
        },
        "id": "A_yO3-b-gc_P",
        "outputId": "90a0a44e-6c76-4f32-a836-f62a53c363da"
      },
      "execution_count": null,
      "outputs": [
        {
          "output_type": "stream",
          "name": "stdout",
          "text": [
            "     Pregnancies  Glucose  BloodPressure  SkinThickness  Insulin   BMI  \\\n",
            "0              6      148             72             35        0  33.6   \n",
            "1              1       85             66             29        0  26.6   \n",
            "2              8      183             64              0        0  23.3   \n",
            "3              1       89             66             23       94  28.1   \n",
            "4              0      137             40             35      168  43.1   \n",
            "..           ...      ...            ...            ...      ...   ...   \n",
            "763           10      101             76             48      180  32.9   \n",
            "764            2      122             70             27        0  36.8   \n",
            "765            5      121             72             23      112  26.2   \n",
            "766            1      126             60              0        0  30.1   \n",
            "767            1       93             70             31        0  30.4   \n",
            "\n",
            "     DiabetesPedigreeFunction  Age   Outcome  \n",
            "0                       0.627   50    severe  \n",
            "1                       0.351   31       min  \n",
            "2                       0.672   32  moderate  \n",
            "3                       0.167   21       min  \n",
            "4                       2.288   33    severe  \n",
            "..                        ...  ...       ...  \n",
            "763                     0.171   63       min  \n",
            "764                     0.340   27  moderate  \n",
            "765                     0.245   30    severe  \n",
            "766                     0.349   47      mild  \n",
            "767                     0.315   23       min  \n",
            "\n",
            "[768 rows x 9 columns]\n"
          ]
        }
      ]
    },
    {
      "cell_type": "code",
      "source": [
        "from numpy import NaN, NAN, nan"
      ],
      "metadata": {
        "id": "U9r7GeMthRUD"
      },
      "execution_count": null,
      "outputs": []
    },
    {
      "cell_type": "code",
      "source": [
        "print(NaN==True)"
      ],
      "metadata": {
        "colab": {
          "base_uri": "https://localhost:8080/"
        },
        "id": "wT_gbHEZhbs0",
        "outputId": "0481e702-1f4a-41df-84a5-ef98911867ad"
      },
      "execution_count": null,
      "outputs": [
        {
          "output_type": "stream",
          "name": "stdout",
          "text": [
            "False\n"
          ]
        }
      ]
    },
    {
      "cell_type": "code",
      "source": [
        "print(pd.isnull(NaN))\n",
        "print(pd.isnull(NAN))\n",
        "print(pd.isnull(nan))"
      ],
      "metadata": {
        "colab": {
          "base_uri": "https://localhost:8080/"
        },
        "id": "b26AxPqJhsVX",
        "outputId": "6b5d1ad5-2d8e-4b20-c914-c39ffcf39dcf"
      },
      "execution_count": null,
      "outputs": [
        {
          "output_type": "stream",
          "name": "stdout",
          "text": [
            "True\n",
            "True\n",
            "True\n"
          ]
        }
      ]
    },
    {
      "cell_type": "code",
      "source": [
        "\n",
        "\n",
        "num_rows= df.shape[0]\n",
        "num_missing=num_rows - df.count()\n",
        "\n",
        "print(num_missing)"
      ],
      "metadata": {
        "colab": {
          "base_uri": "https://localhost:8080/"
        },
        "id": "7PFyWKnQkhPs",
        "outputId": "4ca612cf-1bc2-40f3-a9c6-ecc6c79b1457"
      },
      "execution_count": null,
      "outputs": [
        {
          "output_type": "stream",
          "name": "stdout",
          "text": [
            "Pregnancies                 0\n",
            "Glucose                     0\n",
            "BloodPressure               0\n",
            "SkinThickness               0\n",
            "Insulin                     0\n",
            "BMI                         0\n",
            "DiabetesPedigreeFunction    0\n",
            "Age                         0\n",
            "Outcome                     0\n",
            "dtype: int64\n"
          ]
        }
      ]
    },
    {
      "cell_type": "code",
      "source": [
        "import numpy as np\n",
        "print(np.count_nonzero(df.isnull()))"
      ],
      "metadata": {
        "colab": {
          "base_uri": "https://localhost:8080/"
        },
        "id": "H3DYFnmxgGWw",
        "outputId": "26bae952-edc6-4440-b388-ecd7d05c7a45"
      },
      "execution_count": null,
      "outputs": [
        {
          "output_type": "stream",
          "name": "stdout",
          "text": [
            "0\n"
          ]
        }
      ]
    },
    {
      "cell_type": "code",
      "source": [
        "print(df.loc[:,\"Outcome\"])"
      ],
      "metadata": {
        "colab": {
          "base_uri": "https://localhost:8080/"
        },
        "id": "NbK73w7UilkB",
        "outputId": "6ec59285-32a4-4161-ffe4-25d540c50e6c"
      },
      "execution_count": null,
      "outputs": [
        {
          "output_type": "stream",
          "name": "stdout",
          "text": [
            "0        severe\n",
            "1           min\n",
            "2      moderate\n",
            "3           min\n",
            "4        severe\n",
            "         ...   \n",
            "763         min\n",
            "764    moderate\n",
            "765      severe\n",
            "766        mild\n",
            "767         min\n",
            "Name: Outcome, Length: 768, dtype: object\n"
          ]
        }
      ]
    },
    {
      "cell_type": "code",
      "source": [
        "df.dtypes"
      ],
      "metadata": {
        "colab": {
          "base_uri": "https://localhost:8080/"
        },
        "id": "CxN9OM3jnFQq",
        "outputId": "4977f156-e00e-4ecf-a350-352d10153f26"
      },
      "execution_count": null,
      "outputs": [
        {
          "output_type": "execute_result",
          "data": {
            "text/plain": [
              "Pregnancies                   int64\n",
              "Glucose                       int64\n",
              "BloodPressure                 int64\n",
              "SkinThickness                 int64\n",
              "Insulin                       int64\n",
              "BMI                         float64\n",
              "DiabetesPedigreeFunction    float64\n",
              "Age                           int64\n",
              "Outcome                      object\n",
              "dtype: object"
            ]
          },
          "metadata": {},
          "execution_count": 23
        }
      ]
    },
    {
      "cell_type": "code",
      "source": [
        "df.info()"
      ],
      "metadata": {
        "colab": {
          "base_uri": "https://localhost:8080/"
        },
        "id": "Pp4koU9nnTYc",
        "outputId": "49dc8905-9c85-4f5c-e156-76856792d73c"
      },
      "execution_count": null,
      "outputs": [
        {
          "output_type": "stream",
          "name": "stdout",
          "text": [
            "<class 'pandas.core.frame.DataFrame'>\n",
            "RangeIndex: 768 entries, 0 to 767\n",
            "Data columns (total 9 columns):\n",
            " #   Column                    Non-Null Count  Dtype  \n",
            "---  ------                    --------------  -----  \n",
            " 0   Pregnancies               768 non-null    int64  \n",
            " 1   Glucose                   768 non-null    int64  \n",
            " 2   BloodPressure             768 non-null    int64  \n",
            " 3   SkinThickness             768 non-null    int64  \n",
            " 4   Insulin                   768 non-null    int64  \n",
            " 5   BMI                       768 non-null    float64\n",
            " 6   DiabetesPedigreeFunction  768 non-null    float64\n",
            " 7   Age                       768 non-null    int64  \n",
            " 8   Outcome                   768 non-null    object \n",
            "dtypes: float64(2), int64(6), object(1)\n",
            "memory usage: 54.1+ KB\n"
          ]
        }
      ]
    },
    {
      "cell_type": "code",
      "source": [],
      "metadata": {
        "id": "zd2PrHnCnsA3"
      },
      "execution_count": null,
      "outputs": []
    },
    {
      "cell_type": "code",
      "source": [
        "def convert(df):\n",
        "  new_val=df.replace('min', '0').replace('mild', '1').replace('moderate', '2').replace('severe', '3')\n",
        "  return float(new_val)"
      ],
      "metadata": {
        "id": "9n9fgCGLoEaM"
      },
      "execution_count": null,
      "outputs": []
    },
    {
      "cell_type": "code",
      "source": [
        "df['Outcome'].apply(convert)\n"
      ],
      "metadata": {
        "colab": {
          "base_uri": "https://localhost:8080/"
        },
        "id": "cdCDD6hJpVsH",
        "outputId": "b16abd24-d173-4ddb-9f0f-93391a2a5a91"
      },
      "execution_count": null,
      "outputs": [
        {
          "output_type": "execute_result",
          "data": {
            "text/plain": [
              "0      3.0\n",
              "1      0.0\n",
              "2      2.0\n",
              "3      0.0\n",
              "4      3.0\n",
              "      ... \n",
              "763    0.0\n",
              "764    2.0\n",
              "765    3.0\n",
              "766    1.0\n",
              "767    0.0\n",
              "Name: Outcome, Length: 768, dtype: float64"
            ]
          },
          "metadata": {},
          "execution_count": 26
        }
      ]
    },
    {
      "cell_type": "code",
      "source": [
        "df.info()"
      ],
      "metadata": {
        "colab": {
          "base_uri": "https://localhost:8080/"
        },
        "id": "OpCpcuSdqyPV",
        "outputId": "d133b5ac-c352-46cd-d651-020fc634a8b6"
      },
      "execution_count": null,
      "outputs": [
        {
          "output_type": "stream",
          "name": "stdout",
          "text": [
            "<class 'pandas.core.frame.DataFrame'>\n",
            "RangeIndex: 768 entries, 0 to 767\n",
            "Data columns (total 9 columns):\n",
            " #   Column                    Non-Null Count  Dtype  \n",
            "---  ------                    --------------  -----  \n",
            " 0   Pregnancies               768 non-null    int64  \n",
            " 1   Glucose                   768 non-null    int64  \n",
            " 2   BloodPressure             768 non-null    int64  \n",
            " 3   SkinThickness             768 non-null    int64  \n",
            " 4   Insulin                   768 non-null    int64  \n",
            " 5   BMI                       768 non-null    float64\n",
            " 6   DiabetesPedigreeFunction  768 non-null    float64\n",
            " 7   Age                       768 non-null    int64  \n",
            " 8   Outcome                   768 non-null    object \n",
            "dtypes: float64(2), int64(6), object(1)\n",
            "memory usage: 54.1+ KB\n"
          ]
        }
      ]
    },
    {
      "cell_type": "code",
      "source": [],
      "metadata": {
        "colab": {
          "base_uri": "https://localhost:8080/"
        },
        "id": "fMcHBb76ss46",
        "outputId": "10707487-b883-430c-b56c-f48a8cbf38da"
      },
      "execution_count": null,
      "outputs": [
        {
          "output_type": "stream",
          "name": "stdout",
          "text": [
            "         variable     value\n",
            "0     Pregnancies         6\n",
            "1     Pregnancies         1\n",
            "2     Pregnancies         8\n",
            "3     Pregnancies         1\n",
            "4     Pregnancies         0\n",
            "...           ...       ...\n",
            "6907      Outcome       min\n",
            "6908      Outcome  moderate\n",
            "6909      Outcome    severe\n",
            "6910      Outcome      mild\n",
            "6911      Outcome       min\n",
            "\n",
            "[6912 rows x 2 columns]\n"
          ]
        }
      ]
    },
    {
      "cell_type": "code",
      "source": [
        "print(df.columns)"
      ],
      "metadata": {
        "colab": {
          "base_uri": "https://localhost:8080/"
        },
        "id": "V5cbKPTEuikK",
        "outputId": "1dc40a5f-bc46-4f16-c824-b6f8ce6d8826"
      },
      "execution_count": null,
      "outputs": [
        {
          "output_type": "stream",
          "name": "stdout",
          "text": [
            "Index(['Pregnancies', 'Glucose', 'BloodPressure', 'SkinThickness', 'Insulin',\n",
            "       'BMI', 'DiabetesPedigreeFunction', 'Age', 'Outcome'],\n",
            "      dtype='object')\n"
          ]
        }
      ]
    },
    {
      "cell_type": "code",
      "source": [
        "df.rename(columns={'BMI':'BodyMassIndex', 'Glucose':'GlucoseLevel'},inplace=True)"
      ],
      "metadata": {
        "id": "6SgMp38Nu17W"
      },
      "execution_count": null,
      "outputs": []
    },
    {
      "cell_type": "code",
      "source": [
        "print(df.columns)"
      ],
      "metadata": {
        "colab": {
          "base_uri": "https://localhost:8080/"
        },
        "id": "ecDlioE7wuWf",
        "outputId": "2fe7ff64-2392-4400-f70f-a045b1223788"
      },
      "execution_count": null,
      "outputs": [
        {
          "output_type": "stream",
          "name": "stdout",
          "text": [
            "Index(['Pregnancies', 'GlucoseLevel', 'BloodPressure', 'SkinThickness',\n",
            "       'Insulin', 'BodyMassIndex', 'DiabetesPedigreeFunction', 'Age',\n",
            "       'Outcome'],\n",
            "      dtype='object')\n"
          ]
        }
      ]
    },
    {
      "cell_type": "code",
      "source": [
        "df=df[['BloodPressure', 'GlucoseLevel', 'Pregnancies', 'SkinThickness','BodyMassIndex', 'DiabetesPedigreeFunction', 'Age','Insulin']]"
      ],
      "metadata": {
        "id": "pkX7xA83xcBJ"
      },
      "execution_count": null,
      "outputs": []
    },
    {
      "cell_type": "code",
      "source": [
        "print(df.columns)"
      ],
      "metadata": {
        "colab": {
          "base_uri": "https://localhost:8080/"
        },
        "id": "GMIfIryJyTAp",
        "outputId": "1811b5e9-8d30-4605-d18f-f0d22d23ef21"
      },
      "execution_count": null,
      "outputs": [
        {
          "output_type": "stream",
          "name": "stdout",
          "text": [
            "Index(['BloodPressure', 'GlucoseLevel', 'Pregnancies', 'SkinThickness',\n",
            "       'BodyMassIndex', 'DiabetesPedigreeFunction', 'Age', 'Insulin'],\n",
            "      dtype='object')\n"
          ]
        }
      ]
    },
    {
      "cell_type": "code",
      "source": [
        "print(df)"
      ],
      "metadata": {
        "colab": {
          "base_uri": "https://localhost:8080/"
        },
        "id": "Rdlk5w9OyYQq",
        "outputId": "9b902d0b-fe83-4be5-cbdb-a3a688c3197a"
      },
      "execution_count": null,
      "outputs": [
        {
          "output_type": "stream",
          "name": "stdout",
          "text": [
            "     BloodPressure  GlucoseLevel  Pregnancies  SkinThickness  BodyMassIndex  \\\n",
            "0               72           148            6             35           33.6   \n",
            "1               66            85            1             29           26.6   \n",
            "2               64           183            8              0           23.3   \n",
            "3               66            89            1             23           28.1   \n",
            "4               40           137            0             35           43.1   \n",
            "..             ...           ...          ...            ...            ...   \n",
            "763             76           101           10             48           32.9   \n",
            "764             70           122            2             27           36.8   \n",
            "765             72           121            5             23           26.2   \n",
            "766             60           126            1              0           30.1   \n",
            "767             70            93            1             31           30.4   \n",
            "\n",
            "     DiabetesPedigreeFunction  Age  Insulin  \n",
            "0                       0.627   50        0  \n",
            "1                       0.351   31        0  \n",
            "2                       0.672   32        0  \n",
            "3                       0.167   21       94  \n",
            "4                       2.288   33      168  \n",
            "..                        ...  ...      ...  \n",
            "763                     0.171   63      180  \n",
            "764                     0.340   27        0  \n",
            "765                     0.245   30      112  \n",
            "766                     0.349   47        0  \n",
            "767                     0.315   23        0  \n",
            "\n",
            "[768 rows x 8 columns]\n"
          ]
        }
      ]
    }
  ]
}