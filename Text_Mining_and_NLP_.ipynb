{
  "nbformat": 4,
  "nbformat_minor": 0,
  "metadata": {
    "colab": {
      "provenance": [],
      "include_colab_link": true
    },
    "kernelspec": {
      "name": "python3",
      "display_name": "Python 3"
    },
    "language_info": {
      "name": "python"
    }
  },
  "cells": [
    {
      "cell_type": "markdown",
      "metadata": {
        "id": "view-in-github",
        "colab_type": "text"
      },
      "source": [
        "<a href=\"https://colab.research.google.com/github/JohnSRX/Machine-Learning-Portfolio/blob/Text-Mining-and-NLP/Text_Mining_and_NLP_.ipynb\" target=\"_parent\"><img src=\"https://colab.research.google.com/assets/colab-badge.svg\" alt=\"Open In Colab\"/></a>"
      ]
    },
    {
      "cell_type": "code",
      "execution_count": null,
      "metadata": {
        "id": "0QgtKqxuifJJ",
        "colab": {
          "base_uri": "https://localhost:8080/"
        },
        "outputId": "67945e6d-2e26-4e38-da2c-f38c97ca3df2"
      },
      "outputs": [
        {
          "output_type": "stream",
          "name": "stderr",
          "text": [
            "[nltk_data] Downloading package punkt to /root/nltk_data...\n",
            "[nltk_data]   Package punkt is already up-to-date!\n"
          ]
        },
        {
          "output_type": "execute_result",
          "data": {
            "text/plain": [
              "True"
            ]
          },
          "metadata": {},
          "execution_count": 7
        }
      ],
      "source": [
        "import nltk\n",
        "nltk.download('punkt')"
      ]
    },
    {
      "cell_type": "code",
      "source": [
        "from nltk.tokenize import sent_tokenize\n",
        "myString=\"This is a paragraph. It should split at the end of sentence marker, such as a period. It can tell that the period in Mr. John is not an end. Run it!\"\n",
        "\n",
        "tokenized_sentence = sent_tokenize(myString)\n",
        "print(tokenized_sentence)"
      ],
      "metadata": {
        "colab": {
          "base_uri": "https://localhost:8080/"
        },
        "id": "JhWIBXIwjPe6",
        "outputId": "ef7c1b60-7b23-4373-970d-6fe70260890c"
      },
      "execution_count": null,
      "outputs": [
        {
          "output_type": "stream",
          "name": "stdout",
          "text": [
            "['This is a paragraph.', 'It should split at the end of sentence marker, such as a period.', 'It can tell that the period in Mr. John is not an end.', 'Run it!']\n"
          ]
        }
      ]
    },
    {
      "cell_type": "code",
      "source": [
        "from nltk.tokenize import sent_tokenize\n",
        "myString=\"These are sentences. Let us tokenize it! Run it!\"\n",
        "print(myString.split())"
      ],
      "metadata": {
        "colab": {
          "base_uri": "https://localhost:8080/"
        },
        "id": "t5YHfcUrkQ6W",
        "outputId": "f178f520-e16c-48c1-d899-b5341b7a8605"
      },
      "execution_count": null,
      "outputs": [
        {
          "output_type": "stream",
          "name": "stdout",
          "text": [
            "['These', 'are', 'sentences.', 'Let', 'us', 'tokenize', 'it!', 'Run', 'it!']\n"
          ]
        }
      ]
    },
    {
      "cell_type": "code",
      "source": [
        "from nltk.tokenize import word_tokenize, regexp_tokenize\n",
        "myString=\"These are 3 sentences. Let us tokenize it for 5 more days! Run it!\"\n",
        "print(word_tokenize(myString))\n",
        "print(regexp_tokenize(myString, pattern=\"\\w+\"))\n",
        "print(regexp_tokenize(myString, pattern=\"\\d+\"))"
      ],
      "metadata": {
        "colab": {
          "base_uri": "https://localhost:8080/"
        },
        "id": "E8ijlH8LkVV7",
        "outputId": "5d6a8163-1090-4b80-bc0d-d2a6bf526157"
      },
      "execution_count": null,
      "outputs": [
        {
          "output_type": "stream",
          "name": "stdout",
          "text": [
            "['These', 'are', '3', 'sentences', '.', 'Let', 'us', 'tokenize', 'it', 'for', '5', 'more', 'days', '!', 'Run', 'it', '!']\n",
            "['These', 'are', '3', 'sentences', 'Let', 'us', 'tokenize', 'it', 'for', '5', 'more', 'days', 'Run', 'it']\n",
            "['3', '5']\n"
          ]
        }
      ]
    },
    {
      "cell_type": "code",
      "source": [
        "from nltk.stem import PorterStemmer\n",
        "porter=PorterStemmer()\n",
        "print(porter.stem(\"cutting\"))"
      ],
      "metadata": {
        "colab": {
          "base_uri": "https://localhost:8080/"
        },
        "id": "r6nJmRsIkfyp",
        "outputId": "b10e2025-b5e8-4e1c-f3ab-aef6630e3943"
      },
      "execution_count": null,
      "outputs": [
        {
          "output_type": "stream",
          "name": "stdout",
          "text": [
            "cut\n"
          ]
        }
      ]
    },
    {
      "cell_type": "code",
      "source": [
        ", lancaster\n",
        "from nltk.stem import LancasterStemmer\n",
        "lancaster=LancasterStemmer()\n",
        "print(lancaster.stem(\"sleeping\"))"
      ],
      "metadata": {
        "colab": {
          "base_uri": "https://localhost:8080/"
        },
        "id": "2-jSpiZ8k4ca",
        "outputId": "43455f24-63ff-4550-9ad8-1767e02a9ca8"
      },
      "execution_count": null,
      "outputs": [
        {
          "output_type": "stream",
          "name": "stdout",
          "text": [
            "sleep\n"
          ]
        }
      ]
    },
    {
      "cell_type": "code",
      "source": [
        "from nltk.stem import SnowballStemmer\n",
        "snowball=SnowballStemmer(\"english\")\n",
        "print(snowball.stem(\"driving\"))"
      ],
      "metadata": {
        "colab": {
          "base_uri": "https://localhost:8080/"
        },
        "id": "Q5yzKEz3lI9c",
        "outputId": "bc3f9091-e844-424a-de3e-52c2da3d2f42"
      },
      "execution_count": null,
      "outputs": [
        {
          "output_type": "stream",
          "name": "stdout",
          "text": [
            "drive\n"
          ]
        }
      ]
    },
    {
      "cell_type": "code",
      "source": [
        "import nltk\n",
        "nltk.download('omw-1.4')\n",
        "from nltk.stem import WordNetLemmatizer\n",
        "\n",
        "nltk.download('wordnet')\n",
        "lemma=WordNetLemmatizer()\n",
        "print(lemma.lemmatize('feet'))\n",
        "print(lemma.lemmatize('bats'))\n",
        "print(lemma.lemmatize('knives'))\n",
        "print(lemma.lemmatize('halves'))\n",
        "print(lemma.lemmatize('syllabi'))"
      ],
      "metadata": {
        "colab": {
          "base_uri": "https://localhost:8080/"
        },
        "id": "IKx4cFZ6laQp",
        "outputId": "f360d822-1a11-4110-977f-7cc4b13f74b5"
      },
      "execution_count": null,
      "outputs": [
        {
          "output_type": "stream",
          "name": "stderr",
          "text": [
            "[nltk_data] Downloading package omw-1.4 to /root/nltk_data...\n",
            "[nltk_data] Downloading package wordnet to /root/nltk_data...\n"
          ]
        },
        {
          "output_type": "stream",
          "name": "stdout",
          "text": [
            "foot\n",
            "bat\n",
            "knife\n",
            "half\n",
            "syllabus\n"
          ]
        }
      ]
    },
    {
      "cell_type": "code",
      "source": [
        "import nltk\n",
        "from nltk.corpus import stopwords\n",
        "\n",
        "nltk.download('stopwords')\n",
        "mylist=stopwords.words('english')\n",
        "paragraph=\"We have created a long paragraph of text. You may have important words like Deep Learning and Apple.Words that are not important may be removed.\"\n",
        "postPa=[word for word in paragraph.split() if word not in mylist]\n",
        "print(postPa)"
      ],
      "metadata": {
        "colab": {
          "base_uri": "https://localhost:8080/"
        },
        "id": "gtrCblpJmOJv",
        "outputId": "63449557-4885-4f45-ca4f-bf79c65d7bcd"
      },
      "execution_count": null,
      "outputs": [
        {
          "output_type": "stream",
          "name": "stdout",
          "text": [
            "['We', 'created', 'long', 'paragraph', 'text.', 'You', 'may', 'important', 'words', 'like', 'Deep', 'Learning', 'Apple.Words', 'important', 'may', 'removed.']\n"
          ]
        },
        {
          "output_type": "stream",
          "name": "stderr",
          "text": [
            "[nltk_data] Downloading package stopwords to /root/nltk_data...\n",
            "[nltk_data]   Unzipping corpora/stopwords.zip.\n"
          ]
        }
      ]
    },
    {
      "cell_type": "code",
      "source": [
        "myString = \"The 5 countries includes Canada, Fraance, England, Brazil and the U.S.\"\n",
        "str=myString.lower()\n",
        "print(str)"
      ],
      "metadata": {
        "colab": {
          "base_uri": "https://localhost:8080/"
        },
        "id": "4FdW4dSHmWwW",
        "outputId": "732d8a22-4d42-4494-d382-4709a6627a22"
      },
      "execution_count": null,
      "outputs": [
        {
          "output_type": "stream",
          "name": "stdout",
          "text": [
            "the 5 countries includes canada, fraance, england, brazil and the u.s.\n"
          ]
        }
      ]
    },
    {
      "cell_type": "code",
      "source": [
        "myString = \"The 5 countries includes Canada, Fraance, England, Brazil and the U.S.\"\n",
        "str=myString.upper()\n",
        "print(str)"
      ],
      "metadata": {
        "colab": {
          "base_uri": "https://localhost:8080/"
        },
        "id": "3VpNsaLMmoGu",
        "outputId": "c1892615-987e-46c6-c8d2-d13e7ef57c6a"
      },
      "execution_count": null,
      "outputs": [
        {
          "output_type": "stream",
          "name": "stdout",
          "text": [
            "THE 5 COUNTRIES INCLUDES CANADA, FRAANCE, ENGLAND, BRAZIL AND THE U.S.\n"
          ]
        }
      ]
    },
    {
      "cell_type": "code",
      "source": [
        "import re\n",
        "myString = 'Box A has 4 red and 6 white balls, while Box B has 3 red and 5 blue balls.'\n",
        "output = re.sub(r'\\d+', \" \", myString)\n",
        "print(output)"
      ],
      "metadata": {
        "colab": {
          "base_uri": "https://localhost:8080/"
        },
        "id": "VIbpazR7mrzB",
        "outputId": "26738d50-65f7-4af8-9294-53778fbaec91"
      },
      "execution_count": null,
      "outputs": [
        {
          "output_type": "stream",
          "name": "stdout",
          "text": [
            "Box A has   red and   white balls, while Box B has   red and   blue balls.\n"
          ]
        }
      ]
    },
    {
      "cell_type": "code",
      "source": [
        "import string\n",
        "myString = 'This &is [a] string? {with} many punctuation.? marks!!!!'\n",
        "output = myString.translate(str.maketrans(\"\",\"\", string.punctuation))\n",
        "print(output)"
      ],
      "metadata": {
        "colab": {
          "base_uri": "https://localhost:8080/"
        },
        "id": "_HYdjaXMmv15",
        "outputId": "77f596e0-2351-4f0f-a856-d7eabe5fc6c2"
      },
      "execution_count": null,
      "outputs": [
        {
          "output_type": "stream",
          "name": "stdout",
          "text": [
            "This is a string with many punctuation marks\n"
          ]
        }
      ]
    },
    {
      "cell_type": "code",
      "source": [
        "import string \n",
        "myString = \"\\t a sample string\\t\"\n",
        "str=myString.strip()\n",
        "print(str)"
      ],
      "metadata": {
        "colab": {
          "base_uri": "https://localhost:8080/"
        },
        "id": "7iLS635FnNlE",
        "outputId": "60ec29fd-5f4b-4bc5-c60c-70e596506878"
      },
      "execution_count": null,
      "outputs": [
        {
          "output_type": "stream",
          "name": "stdout",
          "text": [
            "a sample string\n"
          ]
        }
      ]
    }
  ]
}